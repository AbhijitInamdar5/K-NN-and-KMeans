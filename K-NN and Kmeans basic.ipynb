{
 "cells": [
  {
   "cell_type": "code",
   "execution_count": 7,
   "metadata": {},
   "outputs": [],
   "source": [
    "from sklearn import datasets, metrics\n",
    "import matplotlib.pyplot as plt\n",
    "import numpy as np\n",
    "from sklearn.neighbors import KNeighborsClassifier\n",
    "from sklearn.cluster import KMeans\n",
    "from sklearn.model_selection import train_test_split"
   ]
  },
  {
   "cell_type": "code",
   "execution_count": 8,
   "metadata": {},
   "outputs": [],
   "source": [
    "digits = datasets.load_digits()"
   ]
  },
  {
   "cell_type": "code",
   "execution_count": 10,
   "metadata": {},
   "outputs": [
    {
     "data": {
      "text/plain": [
       "array([[ 0.,  0.,  5., ...,  0.,  0.,  0.],\n",
       "       [ 0.,  0.,  0., ..., 10.,  0.,  0.],\n",
       "       [ 0.,  0.,  0., ..., 16.,  9.,  0.],\n",
       "       ...,\n",
       "       [ 0.,  0.,  1., ...,  6.,  0.,  0.],\n",
       "       [ 0.,  0.,  2., ..., 12.,  0.,  0.],\n",
       "       [ 0.,  0., 10., ..., 12.,  1.,  0.]])"
      ]
     },
     "execution_count": 10,
     "metadata": {},
     "output_type": "execute_result"
    }
   ],
   "source": [
    "digits.data"
   ]
  },
  {
   "cell_type": "code",
   "execution_count": 11,
   "metadata": {},
   "outputs": [
    {
     "data": {
      "text/plain": [
       "array([ 0.,  0.,  5., 13.,  9.,  1.,  0.,  0.,  0.,  0., 13., 15., 10.,\n",
       "       15.,  5.,  0.,  0.,  3., 15.,  2.,  0., 11.,  8.,  0.,  0.,  4.,\n",
       "       12.,  0.,  0.,  8.,  8.,  0.,  0.,  5.,  8.,  0.,  0.,  9.,  8.,\n",
       "        0.,  0.,  4., 11.,  0.,  1., 12.,  7.,  0.,  0.,  2., 14.,  5.,\n",
       "       10., 12.,  0.,  0.,  0.,  0.,  6., 13., 10.,  0.,  0.,  0.])"
      ]
     },
     "execution_count": 11,
     "metadata": {},
     "output_type": "execute_result"
    }
   ],
   "source": [
    "digits.data[0]"
   ]
  },
  {
   "cell_type": "code",
   "execution_count": 12,
   "metadata": {},
   "outputs": [
    {
     "data": {
      "text/plain": [
       "(1797, 64)"
      ]
     },
     "execution_count": 12,
     "metadata": {},
     "output_type": "execute_result"
    }
   ],
   "source": [
    "digits.data.shape"
   ]
  },
  {
   "cell_type": "code",
   "execution_count": 13,
   "metadata": {},
   "outputs": [
    {
     "data": {
      "text/plain": [
       "1797"
      ]
     },
     "execution_count": 13,
     "metadata": {},
     "output_type": "execute_result"
    }
   ],
   "source": [
    "num_examples = len(digits.data)\n",
    "num_examples"
   ]
  },
  {
   "cell_type": "code",
   "execution_count": 15,
   "metadata": {},
   "outputs": [
    {
     "data": {
      "text/plain": [
       "1257"
      ]
     },
     "execution_count": 15,
     "metadata": {},
     "output_type": "execute_result"
    }
   ],
   "source": [
    "num_split = int(0.7*num_examples)\n",
    "num_split"
   ]
  },
  {
   "cell_type": "code",
   "execution_count": 16,
   "metadata": {},
   "outputs": [],
   "source": [
    "train_features = digits.data[:num_split]\n",
    "train_labels = digits.target[:num_split]\n",
    "test_features = digits.data[num_split:]\n",
    "test_labels = digits.target[num_split:]"
   ]
  },
  {
   "cell_type": "code",
   "execution_count": 19,
   "metadata": {},
   "outputs": [
    {
     "name": "stdout",
     "output_type": "stream",
     "text": [
      "Number of Training Examples :  1257\n",
      "Number of Test Examples :  540\n",
      "Total Examples:  1797\n"
     ]
    }
   ],
   "source": [
    "print(\"Number of Training Examples : \", len(train_features))\n",
    "print(\"Number of Test Examples : \", len(test_features))\n",
    "print(\"Total Examples: \", len(train_features) + len(test_features))"
   ]
  },
  {
   "cell_type": "code",
   "execution_count": 20,
   "metadata": {},
   "outputs": [],
   "source": [
    "classifier = KNeighborsClassifier(n_neighbors = 5, algorithm = 'brute')"
   ]
  },
  {
   "cell_type": "code",
   "execution_count": 21,
   "metadata": {},
   "outputs": [
    {
     "data": {
      "text/plain": [
       "KNeighborsClassifier(algorithm='brute')"
      ]
     },
     "execution_count": 21,
     "metadata": {},
     "output_type": "execute_result"
    }
   ],
   "source": [
    "classifier.fit(train_features, train_labels)"
   ]
  },
  {
   "cell_type": "code",
   "execution_count": 22,
   "metadata": {},
   "outputs": [
    {
     "data": {
      "text/plain": [
       "array([4, 0, 5, 3, 6, 9, 6, 1, 7, 5, 4, 4, 7, 2, 8, 2, 2, 5, 7, 9, 5, 4,\n",
       "       8, 8, 4, 9, 0, 8, 9, 8, 0, 1, 2, 3, 4, 5, 6, 7, 8, 9, 0, 1, 2, 3,\n",
       "       4, 5, 6, 7, 8, 9, 0, 1, 2, 3, 4, 5, 6, 7, 8, 9, 0, 9, 5, 5, 6, 5,\n",
       "       0, 9, 8, 9, 8, 4, 1, 7, 7, 3, 5, 1, 0, 0, 2, 2, 7, 8, 2, 0, 1, 2,\n",
       "       6, 3, 3, 7, 3, 3, 4, 6, 6, 6, 4, 9, 1, 5, 0, 9, 6, 2, 8, 3, 0, 0,\n",
       "       1, 7, 6, 3, 2, 1, 7, 4, 6, 3, 1, 3, 9, 1, 7, 6, 8, 4, 3, 1, 4, 0,\n",
       "       5, 3, 6, 9, 6, 1, 7, 5, 4, 4, 7, 2, 8, 2, 2, 5, 7, 9, 5, 4, 1, 8,\n",
       "       4, 9, 0, 8, 0, 1, 2, 3, 4, 5, 6, 7, 8, 9, 0, 1, 2, 3, 4, 5, 6, 7,\n",
       "       8, 9, 0, 1, 2, 3, 4, 5, 6, 7, 8, 9, 0, 9, 5, 5, 6, 5, 0, 9, 8, 9,\n",
       "       8, 4, 1, 7, 7, 3, 5, 1, 0, 0, 2, 2, 7, 9, 2, 0, 1, 2, 6, 3, 3, 7,\n",
       "       3, 3, 4, 6, 6, 6, 4, 9, 1, 5, 0, 9, 5, 2, 8, 2, 0, 0, 9, 7, 6, 3,\n",
       "       2, 1, 7, 4, 6, 3, 1, 3, 9, 1, 7, 6, 8, 4, 3, 1, 4, 0, 5, 3, 6, 9,\n",
       "       6, 1, 7, 5, 4, 4, 7, 2, 8, 2, 2, 5, 7, 9, 5, 4, 8, 8, 4, 9, 0, 8,\n",
       "       9, 8, 0, 1, 2, 3, 4, 5, 6, 7, 1, 9, 0, 1, 2, 3, 4, 5, 6, 9, 0, 1,\n",
       "       2, 3, 4, 5, 6, 7, 8, 9, 4, 9, 5, 5, 6, 5, 0, 9, 8, 5, 8, 4, 1, 7,\n",
       "       7, 3, 5, 1, 0, 0, 0, 2, 7, 8, 2, 0, 1, 2, 6, 3, 3, 7, 7, 8, 4, 6,\n",
       "       6, 6, 7, 9, 1, 5, 0, 9, 5, 2, 8, 0, 1, 7, 6, 3, 2, 1, 7, 4, 6, 3,\n",
       "       1, 3, 9, 1, 7, 6, 8, 4, 3, 1, 4, 0, 5, 3, 6, 9, 6, 1, 7, 5, 4, 4,\n",
       "       7, 2, 2, 5, 7, 3, 5, 8, 4, 5, 0, 8, 9, 7, 0, 1, 2, 3, 4, 5, 6, 7,\n",
       "       8, 9, 0, 1, 2, 3, 4, 5, 6, 7, 8, 9, 0, 1, 2, 3, 4, 5, 6, 7, 8, 9,\n",
       "       0, 9, 5, 5, 6, 5, 0, 9, 8, 9, 8, 4, 1, 7, 7, 3, 5, 1, 0, 0, 2, 2,\n",
       "       7, 8, 2, 0, 1, 2, 6, 3, 2, 7, 3, 3, 4, 6, 6, 6, 4, 9, 1, 5, 0, 9,\n",
       "       5, 2, 8, 2, 0, 0, 1, 7, 6, 3, 2, 1, 7, 4, 6, 3, 1, 3, 9, 1, 7, 6,\n",
       "       8, 4, 5, 1, 4, 0, 5, 3, 6, 9, 6, 1, 7, 5, 4, 4, 7, 2, 8, 2, 2, 5,\n",
       "       7, 9, 5, 4, 8, 1, 4, 9, 0, 8, 9, 8])"
      ]
     },
     "execution_count": 22,
     "metadata": {},
     "output_type": "execute_result"
    }
   ],
   "source": [
    "predicted = classifier.predict(test_features)\n",
    "predicted"
   ]
  },
  {
   "cell_type": "code",
   "execution_count": 24,
   "metadata": {},
   "outputs": [
    {
     "data": {
      "text/plain": [
       "array([[ 353,  817,  297,  366, 1254],\n",
       "       [1177,  588,  725,  824,  328],\n",
       "       [ 376,  791,  801,  165,  896],\n",
       "       ...,\n",
       "       [ 148,  248,  242, 1069,  255],\n",
       "       [ 254,  251,  849,  417,  199],\n",
       "       [ 183,  248, 1015,  513,  224]], dtype=int64)"
      ]
     },
     "execution_count": 24,
     "metadata": {},
     "output_type": "execute_result"
    }
   ],
   "source": [
    "distance, neighbors = classifier.kneighbors(test_features)\n",
    "neighbors"
   ]
  },
  {
   "cell_type": "code",
   "execution_count": 25,
   "metadata": {},
   "outputs": [
    {
     "data": {
      "text/plain": [
       "array([[11.66190379, 16.94107435, 18.16590212, 19.31320792, 20.19900988],\n",
       "       [21.09502311, 21.47091055, 21.61018278, 21.74856317, 21.81742423],\n",
       "       [18.02775638, 18.1934054 , 19.62141687, 21.16601049, 21.9317122 ],\n",
       "       ...,\n",
       "       [20.83266666, 21.70253441, 22.93468988, 24.0208243 , 25.63201124],\n",
       "       [19.5192213 , 21.09502311, 23.87467277, 24.69817807, 24.8394847 ],\n",
       "       [26.73948391, 27.62245463, 27.73084925, 27.80287755, 27.92848009]])"
      ]
     },
     "execution_count": 25,
     "metadata": {},
     "output_type": "execute_result"
    }
   ],
   "source": [
    "distance"
   ]
  },
  {
   "cell_type": "code",
   "execution_count": 27,
   "metadata": {},
   "outputs": [
    {
     "name": "stdout",
     "output_type": "stream",
     "text": [
      "Classification report for classfier KNeighborsClassifier(algorithm='brute'):\n",
      "              precision    recall  f1-score   support\n",
      "\n",
      "           0       0.98      0.98      0.98        53\n",
      "           1       0.95      0.98      0.96        53\n",
      "           2       0.98      0.96      0.97        53\n",
      "           3       0.96      0.92      0.94        53\n",
      "           4       0.98      0.96      0.97        57\n",
      "           5       0.95      0.98      0.96        56\n",
      "           6       0.98      1.00      0.99        54\n",
      "           7       0.95      1.00      0.97        54\n",
      "           8       0.96      0.90      0.93        52\n",
      "           9       0.96      0.95      0.95        55\n",
      "\n",
      "    accuracy                           0.96       540\n",
      "   macro avg       0.96      0.96      0.96       540\n",
      "weighted avg       0.97      0.96      0.96       540\n",
      "\n",
      "\n",
      "Confusion Matrix:\n",
      "[[52  0  0  0  1  0  0  0  0  0]\n",
      " [ 0 52  0  0  0  0  0  0  0  1]\n",
      " [ 1  0 51  1  0  0  0  0  0  0]\n",
      " [ 0  0  1 49  0  1  0  1  1  0]\n",
      " [ 0  0  0  0 55  0  0  1  1  0]\n",
      " [ 0  0  0  0  0 55  1  0  0  0]\n",
      " [ 0  0  0  0  0  0 54  0  0  0]\n",
      " [ 0  0  0  0  0  0  0 54  0  0]\n",
      " [ 0  3  0  0  0  0  0  1 47  1]\n",
      " [ 0  0  0  1  0  2  0  0  0 52]]\n"
     ]
    }
   ],
   "source": [
    "print(\"Classification report for classfier %s:\\n%s\\n\" \n",
    "      %(classifier, metrics.classification_report(test_labels, predicted)))\n",
    "print(\"Confusion Matrix:\\n%s\" % metrics.confusion_matrix(test_labels,predicted))"
   ]
  },
  {
   "cell_type": "code",
   "execution_count": 30,
   "metadata": {},
   "outputs": [
    {
     "data": {
      "text/plain": [
       "<function matplotlib.pyplot.show(*args, **kw)>"
      ]
     },
     "execution_count": 30,
     "metadata": {},
     "output_type": "execute_result"
    },
    {
     "data": {
      "image/png": "[encoded data removed]",
      "text/plain": [
       "<Figure size 432x288 with 4 Axes>"
      ]
     },
     "metadata": {
      "needs_background": "light"
     },
     "output_type": "display_data"
    }
   ],
   "source": [
    "images_and_predictions = list(zip(digits.images[num_split:], predicted))\n",
    "for index, (image, prediction) in enumerate (images_and_predictions[:4]):\n",
    "    plt.subplot(2, 4, index + 5)        \n",
    "    plt.axis('off')\n",
    "    plt.imshow(image, cmap=plt.cm.gray_r, interpolation='nearest')\n",
    "    plt.title('Prediction: %i' % prediction)\n",
    "    \n",
    "plt.show    "
   ]
  },
  {
   "cell_type": "code",
   "execution_count": 31,
   "metadata": {},
   "outputs": [],
   "source": [
    "clustering = KMeans(n_clusters=10) "
   ]
  },
  {
   "cell_type": "code",
   "execution_count": 32,
   "metadata": {},
   "outputs": [],
   "source": [
    "cluster = clustering.fit(train_features)"
   ]
  },
  {
   "cell_type": "code",
   "execution_count": 33,
   "metadata": {},
   "outputs": [
    {
     "data": {
      "text/plain": [
       "array([[ 0.00000000e+00,  6.90476190e-01,  8.96031746e+00,\n",
       "         1.43015873e+01,  1.38015873e+01,  7.03968254e+00,\n",
       "         6.90476190e-01,  2.77555756e-17,  2.38095238e-02,\n",
       "         4.44444444e+00,  1.24920635e+01,  8.85714286e+00,\n",
       "         1.14047619e+01,  1.17857143e+01,  2.03174603e+00,\n",
       "         1.58730159e-02,  7.93650794e-03,  2.31746032e+00,\n",
       "         3.60317460e+00,  3.29365079e+00,  1.20476190e+01,\n",
       "         9.34920635e+00,  8.80952381e-01,  1.38777878e-17,\n",
       "         5.42101086e-19,  1.03174603e-01,  1.04761905e+00,\n",
       "         8.34920635e+00,  1.44047619e+01,  6.63492063e+00,\n",
       "         1.90476190e-01,  2.16840434e-18,  0.00000000e+00,\n",
       "         8.73015873e-02,  8.01587302e-01,  4.73809524e+00,\n",
       "         1.16031746e+01,  1.24206349e+01,  2.23809524e+00,\n",
       "         0.00000000e+00,  5.20417043e-18,  6.50793651e-01,\n",
       "         1.95238095e+00,  6.03174603e-01,  3.44444444e+00,\n",
       "         1.26825397e+01,  6.61904762e+00,  0.00000000e+00,\n",
       "         5.20417043e-18,  1.09523810e+00,  7.34126984e+00,\n",
       "         6.22222222e+00,  8.12698413e+00,  1.37936508e+01,\n",
       "         5.80158730e+00,  2.38095238e-02,  5.42101086e-19,\n",
       "         5.31746032e-01,  9.73015873e+00,  1.47301587e+01,\n",
       "         1.38492063e+01,  8.27777778e+00,  1.17460317e+00,\n",
       "         3.96825397e-02],\n",
       "       [ 0.00000000e+00,  1.11022302e-16,  1.25781250e+00,\n",
       "         1.10859375e+01,  9.82031250e+00,  1.81250000e+00,\n",
       "         6.25000000e-02, -2.77555756e-17,  1.73472348e-18,\n",
       "         7.81250000e-02,  7.71875000e+00,  1.44843750e+01,\n",
       "         6.19531250e+00,  1.07031250e+00,  6.25000000e-02,\n",
       "        -2.77555756e-17,  8.67361738e-19,  8.90625000e-01,\n",
       "         1.30000000e+01,  8.89062500e+00,  8.20312500e-01,\n",
       "         6.25000000e-02,  4.44089210e-16,  0.00000000e+00,\n",
       "         4.33680869e-19,  2.67187500e+00,  1.38125000e+01,\n",
       "         7.10937500e+00,  3.24218750e+00,  1.46093750e+00,\n",
       "         6.25000000e-02,  1.73472348e-18,  0.00000000e+00,\n",
       "         3.68750000e+00,  1.48828125e+01,  1.23828125e+01,\n",
       "         1.21328125e+01,  1.00937500e+01,  2.27343750e+00,\n",
       "         0.00000000e+00,  5.20417043e-18,  2.02343750e+00,\n",
       "         1.47968750e+01,  1.10468750e+01,  5.96093750e+00,\n",
       "         1.05000000e+01,  9.20312500e+00,  1.01562500e-01,\n",
       "         5.20417043e-18,  1.95312500e-01,  1.05390625e+01,\n",
       "         1.23984375e+01,  5.03125000e+00,  1.08593750e+01,\n",
       "         1.11250000e+01,  6.64062500e-01,  4.33680869e-19,\n",
       "         1.66533454e-16,  1.51562500e+00,  1.07968750e+01,\n",
       "         1.50312500e+01,  1.32578125e+01,  5.03906250e+00,\n",
       "         2.34375000e-01],\n",
       "       [ 0.00000000e+00,  0.00000000e+00,  4.54545455e-02,\n",
       "         1.83333333e+00,  1.15454545e+01,  1.18939394e+01,\n",
       "         4.06060606e+00,  7.57575758e-02,  8.67361738e-19,\n",
       "         3.03030303e-02,  1.27272727e+00,  8.37878788e+00,\n",
       "         1.37424242e+01,  1.20454545e+01,  5.40909091e+00,\n",
       "         2.57575758e-01,  4.33680869e-19,  8.18181818e-01,\n",
       "         7.33333333e+00,  1.22878788e+01,  1.20757576e+01,\n",
       "         1.26363636e+01,  4.00000000e+00,  1.81818182e-01,\n",
       "         2.16840434e-19,  3.53030303e+00,  1.30454545e+01,\n",
       "         1.36212121e+01,  1.44393939e+01,  1.29848485e+01,\n",
       "         2.30303030e+00,  8.67361738e-19,  0.00000000e+00,\n",
       "         2.50000000e+00,  8.86363636e+00,  9.54545455e+00,\n",
       "         1.31363636e+01,  1.19696970e+01,  1.54545455e+00,\n",
       "         0.00000000e+00,  3.46944695e-18,  8.03030303e-01,\n",
       "         2.30303030e+00,  4.62121212e+00,  1.26363636e+01,\n",
       "         1.16363636e+01,  8.33333333e-01, -1.73472348e-18,\n",
       "         3.46944695e-18,  4.54545455e-02,  2.42424242e-01,\n",
       "         3.66666667e+00,  1.30757576e+01,  1.14696970e+01,\n",
       "         8.93939394e-01,  0.00000000e+00,  2.16840434e-19,\n",
       "         1.11022302e-16,  0.00000000e+00,  1.95454545e+00,\n",
       "         1.18939394e+01,  1.02727273e+01,  1.09090909e+00,\n",
       "        -1.11022302e-16],\n",
       "       [ 0.00000000e+00,  8.84353741e-02,  3.48299320e+00,\n",
       "         1.11360544e+01,  1.25102041e+01,  5.90476190e+00,\n",
       "         4.89795918e-01,  8.32667268e-17,  2.16840434e-18,\n",
       "         6.53061224e-01,  7.75510204e+00,  1.35034014e+01,\n",
       "         1.29523810e+01,  1.05442177e+01,  1.61224490e+00,\n",
       "        -5.55111512e-17,  1.08420217e-18,  1.27891156e+00,\n",
       "         8.40136054e+00,  1.14965986e+01,  1.16462585e+01,\n",
       "         9.89115646e+00,  1.20408163e+00,  0.00000000e+00,\n",
       "         5.42101086e-19,  1.05442177e+00,  7.10884354e+00,\n",
       "         1.36462585e+01,  1.38435374e+01,  5.42857143e+00,\n",
       "         2.17687075e-01,  2.16840434e-18,  0.00000000e+00,\n",
       "         7.07482993e-01,  8.03401361e+00,  1.47006803e+01,\n",
       "         1.30340136e+01,  2.24489796e+00,  2.04081633e-02,\n",
       "         0.00000000e+00,  5.20417043e-18,  1.53061224e+00,\n",
       "         1.13945578e+01,  1.21428571e+01,  1.16190476e+01,\n",
       "         4.31972789e+00,  3.40136054e-01,  1.73472348e-18,\n",
       "         2.04081633e-02,  1.00000000e+00,  1.03333333e+01,\n",
       "         1.19251701e+01,  1.15918367e+01,  6.02040816e+00,\n",
       "         1.00680272e+00,  6.80272109e-03,  6.80272109e-03,\n",
       "         8.16326531e-02,  3.72108844e+00,  1.15714286e+01,\n",
       "         1.29727891e+01,  5.96598639e+00,  1.31972789e+00,\n",
       "         1.36054422e-02],\n",
       "       [ 0.00000000e+00,  1.55172414e-01,  6.09770115e+00,\n",
       "         1.23275862e+01,  1.18793103e+01,  5.55172414e+00,\n",
       "         5.11494253e-01,  1.14942529e-02,  1.73472348e-18,\n",
       "         2.50000000e+00,  1.40804598e+01,  9.48850575e+00,\n",
       "         9.14367816e+00,  1.01494253e+01,  1.14367816e+00,\n",
       "         5.74712644e-03,  8.67361738e-19,  4.45402299e+00,\n",
       "         1.27873563e+01,  4.50000000e+00,  6.82758621e+00,\n",
       "         1.12068966e+01,  1.64367816e+00,  1.38777878e-17,\n",
       "         4.33680869e-19,  2.49425287e+00,  1.06091954e+01,\n",
       "         1.15344828e+01,  1.34712644e+01,  1.21206897e+01,\n",
       "         2.14367816e+00,  1.73472348e-18,  0.00000000e+00,\n",
       "         3.85057471e-01,  3.67241379e+00,  6.77011494e+00,\n",
       "         7.36781609e+00,  1.11494253e+01,  3.73563218e+00,\n",
       "         0.00000000e+00,  5.20417043e-18,  2.58620690e-01,\n",
       "         2.52873563e+00,  1.90229885e+00,  1.83908046e+00,\n",
       "         1.10919540e+01,  6.36781609e+00,  2.29885057e-02,\n",
       "         5.20417043e-18,  7.75862069e-01,  8.43678161e+00,\n",
       "         5.89655172e+00,  4.38505747e+00,  1.16781609e+01,\n",
       "         6.83333333e+00,  1.55172414e-01,  4.33680869e-19,\n",
       "         1.49425287e-01,  5.97701149e+00,  1.30632184e+01,\n",
       "         1.44597701e+01,  1.07931034e+01,  2.94827586e+00,\n",
       "         1.26436782e-01],\n",
       "       [ 0.00000000e+00,  3.17460317e-02,  4.13492063e+00,\n",
       "         1.29841270e+01,  1.14841270e+01,  3.28571429e+00,\n",
       "         3.96825397e-02,  0.00000000e+00,  2.16840434e-18,\n",
       "         9.92063492e-01,  1.27063492e+01,  1.31031746e+01,\n",
       "         1.10555556e+01,  1.15238095e+01,  1.26190476e+00,\n",
       "        -2.77555756e-17,  1.08420217e-18,  3.96825397e+00,\n",
       "         1.42936508e+01,  4.72222222e+00,  2.15079365e+00,\n",
       "         1.17380952e+01,  3.92063492e+00,  1.38777878e-17,\n",
       "         5.42101086e-19,  5.42857143e+00,  1.26825397e+01,\n",
       "         1.61111111e+00,  2.93650794e-01,  9.11904762e+00,\n",
       "         6.52380952e+00,  2.16840434e-18,  0.00000000e+00,\n",
       "         5.95238095e+00,  1.14126984e+01,  6.50793651e-01,\n",
       "         3.96825397e-02,  9.06349206e+00,  7.04761905e+00,\n",
       "         0.00000000e+00,  5.20417043e-18,  3.54761905e+00,\n",
       "         1.31190476e+01,  1.61111111e+00,  1.35714286e+00,\n",
       "         1.13412698e+01,  5.67460317e+00,  0.00000000e+00,\n",
       "         5.20417043e-18,  8.01587302e-01,  1.30952381e+01,\n",
       "         9.50000000e+00,  1.01746032e+01,  1.31349206e+01,\n",
       "         2.46825397e+00,  2.77555756e-17,  5.42101086e-19,\n",
       "         1.66533454e-16,  4.17460317e+00,  1.35555556e+01,\n",
       "         1.33333333e+01,  5.26190476e+00,  3.25396825e-01,\n",
       "        -5.55111512e-17],\n",
       "       [ 0.00000000e+00,  1.38888889e-02,  4.52777778e+00,\n",
       "         1.26458333e+01,  1.35000000e+01,  1.10347222e+01,\n",
       "         5.55555556e+00,  1.28472222e+00,  2.16840434e-18,\n",
       "         6.52777778e-01,  1.06666667e+01,  1.19027778e+01,\n",
       "         1.04166667e+01,  1.24513889e+01,  6.00694444e+00,\n",
       "         7.50000000e-01,  1.08420217e-18,  1.04861111e+00,\n",
       "         5.84027778e+00,  2.16666667e+00,  6.43750000e+00,\n",
       "         1.13750000e+01,  3.88888889e+00,  1.59722222e-01,\n",
       "         5.42101086e-19,  1.09722222e+00,  5.27083333e+00,\n",
       "         5.92361111e+00,  1.21250000e+01,  1.21458333e+01,\n",
       "         4.95833333e+00,  6.94444444e-03,  0.00000000e+00,\n",
       "         1.31250000e+00,  8.88194444e+00,  1.26875000e+01,\n",
       "         1.46875000e+01,  1.08402778e+01,  3.76388889e+00,\n",
       "         0.00000000e+00,  5.20417043e-18,  1.03472222e+00,\n",
       "         5.27777778e+00,  1.12500000e+01,  1.09930556e+01,\n",
       "         3.69444444e+00,  5.76388889e-01, -1.73472348e-18,\n",
       "         5.20417043e-18,  3.47222222e-02,  2.59027778e+00,\n",
       "         1.24791667e+01,  6.28472222e+00,  4.37500000e-01,\n",
       "         2.08333333e-02,  2.77555756e-17,  5.42101086e-19,\n",
       "         3.47222222e-02,  5.59722222e+00,  1.20833333e+01,\n",
       "         2.67361111e+00,  4.30555556e-01,  4.86111111e-02,\n",
       "         5.55111512e-17],\n",
       "       [ 0.00000000e+00,  7.04545455e-01,  9.63636364e+00,\n",
       "         1.43636364e+01,  7.90151515e+00,  9.84848485e-01,\n",
       "        -4.44089210e-16,  2.77555756e-17,  1.73472348e-18,\n",
       "         4.60606061e+00,  1.33636364e+01,  1.26590909e+01,\n",
       "         1.16060606e+01,  3.15151515e+00,  2.27272727e-02,\n",
       "        -2.77555756e-17,  7.57575758e-03,  4.37878788e+00,\n",
       "         8.43939394e+00,  6.64393939e+00,  1.22121212e+01,\n",
       "         3.31060606e+00,  2.27272727e-02,  0.00000000e+00,\n",
       "         4.33680869e-19,  1.18181818e+00,  3.41666667e+00,\n",
       "         7.80303030e+00,  1.26590909e+01,  2.44696970e+00,\n",
       "         5.30303030e-02,  1.73472348e-18,  0.00000000e+00,\n",
       "         6.06060606e-02,  1.82575758e+00,  1.02727273e+01,\n",
       "         1.06969697e+01,  1.59848485e+00, -1.77635684e-15,\n",
       "         0.00000000e+00,  5.20417043e-18,  3.03030303e-01,\n",
       "         4.46212121e+00,  1.06136364e+01,  7.53030303e+00,\n",
       "         2.28030303e+00,  6.43939394e-01,  0.00000000e+00,\n",
       "         5.20417043e-18,  1.20454545e+00,  1.06212121e+01,\n",
       "         1.33257576e+01,  1.13560606e+01,  1.05757576e+01,\n",
       "         7.29545455e+00,  1.33333333e+00,  4.33680869e-19,\n",
       "         6.66666667e-01,  9.75757576e+00,  1.45757576e+01,\n",
       "         1.41363636e+01,  1.33712121e+01,  1.00681818e+01,\n",
       "         3.56060606e+00],\n",
       "       [ 0.00000000e+00,  5.55111512e-17,  2.09090909e-01,\n",
       "         7.10000000e+00,  1.23636364e+01,  1.72727273e+00,\n",
       "         2.09090909e-01,  7.27272727e-02,  1.73472348e-18,\n",
       "         1.81818182e-02,  3.18181818e+00,  1.39909091e+01,\n",
       "         9.07272727e+00,  1.92727273e+00,  1.24545455e+00,\n",
       "         3.45454545e-01,  8.67361738e-19,  7.09090909e-01,\n",
       "         1.08727273e+01,  1.18545455e+01,  4.98181818e+00,\n",
       "         5.69090909e+00,  4.27272727e+00,  4.09090909e-01,\n",
       "         9.09090909e-03,  5.00000000e+00,  1.48272727e+01,\n",
       "         6.22727273e+00,  7.76363636e+00,  1.03545455e+01,\n",
       "         5.63636364e+00,  2.72727273e-02,  0.00000000e+00,\n",
       "         8.78181818e+00,  1.47545455e+01,  9.95454545e+00,\n",
       "         1.36545455e+01,  1.39545455e+01,  5.17272727e+00,\n",
       "         0.00000000e+00,  1.18181818e-01,  5.85454545e+00,\n",
       "         1.06272727e+01,  1.19818182e+01,  1.49727273e+01,\n",
       "         1.05545455e+01,  1.68181818e+00,  0.00000000e+00,\n",
       "         9.09090909e-02,  9.09090909e-01,  2.07272727e+00,\n",
       "         7.19090909e+00,  1.41909091e+01,  3.58181818e+00,\n",
       "         2.72727273e-02,  2.77555756e-17,  4.33680869e-19,\n",
       "         2.72727273e-02,  2.81818182e-01,  7.99090909e+00,\n",
       "         1.25363636e+01,  1.57272727e+00,  8.88178420e-16,\n",
       "        -1.66533454e-16],\n",
       "       [ 0.00000000e+00,  1.20192308e+00,  1.05576923e+01,\n",
       "         1.32500000e+01,  1.37211538e+01,  1.26250000e+01,\n",
       "         5.31730769e+00,  5.76923077e-02,  9.61538462e-03,\n",
       "         4.87500000e+00,  1.51634615e+01,  1.24903846e+01,\n",
       "         9.21153846e+00,  8.39423077e+00,  3.32692308e+00,\n",
       "         4.80769231e-02,  6.50521303e-19,  5.80769231e+00,\n",
       "         1.43269231e+01,  5.60576923e+00,  2.15384615e+00,\n",
       "         1.35576923e+00,  2.11538462e-01,  0.00000000e+00,\n",
       "         3.25260652e-19,  4.57692308e+00,  1.36538462e+01,\n",
       "         1.23269231e+01,  8.09615385e+00,  1.85576923e+00,\n",
       "         1.44230769e-01,  1.30104261e-18,  0.00000000e+00,\n",
       "         1.82692308e+00,  7.75961538e+00,  1.00673077e+01,\n",
       "         1.02403846e+01,  4.61538462e+00,  2.88461538e-01,\n",
       "         0.00000000e+00,  1.73472348e-18,  4.13461538e-01,\n",
       "         1.52884615e+00,  5.13461538e+00,  1.09423077e+01,\n",
       "         6.19230769e+00,  4.32692308e-01, -3.46944695e-18,\n",
       "         1.73472348e-18,  8.46153846e-01,  5.37500000e+00,\n",
       "         9.49038462e+00,  1.28653846e+01,  4.34615385e+00,\n",
       "         2.21153846e-01,  0.00000000e+00,  3.25260652e-19,\n",
       "         1.09615385e+00,  1.16346154e+01,  1.47884615e+01,\n",
       "         7.65384615e+00,  7.40384615e-01,  4.44089210e-16,\n",
       "        -1.11022302e-16]])"
      ]
     },
     "execution_count": 33,
     "metadata": {},
     "output_type": "execute_result"
    }
   ],
   "source": [
    "clustering.cluster_centers_"
   ]
  },
  {
   "cell_type": "code",
   "execution_count": 34,
   "metadata": {},
   "outputs": [
    {
     "data": {
      "text/plain": [
       "array([8, 5, 9, 0, 1, 4, 1, 9, 6, 9, 8, 8, 6, 7, 7, 7, 7, 9, 6, 4, 9, 8,\n",
       "       3, 3, 8, 4, 5, 3, 4, 3, 5, 2, 7, 0, 8, 4, 1, 6, 3, 4, 5, 3, 7, 0,\n",
       "       5, 9, 1, 6, 3, 4, 5, 2, 7, 0, 8, 9, 1, 6, 3, 4, 5, 4, 9, 9, 1, 9,\n",
       "       5, 4, 3, 4, 3, 8, 3, 6, 6, 0, 9, 3, 5, 5, 0, 0, 6, 3, 0, 5, 2, 4,\n",
       "       1, 0, 0, 6, 0, 0, 8, 1, 1, 1, 8, 4, 3, 4, 5, 4, 1, 7, 3, 0, 5, 5,\n",
       "       2, 6, 1, 0, 7, 3, 6, 8, 1, 0, 3, 0, 4, 3, 6, 1, 3, 8, 0, 3, 8, 5,\n",
       "       9, 0, 1, 4, 1, 3, 6, 9, 8, 8, 6, 4, 3, 7, 7, 4, 6, 4, 9, 8, 3, 3,\n",
       "       8, 4, 5, 3, 5, 2, 7, 0, 8, 9, 1, 6, 4, 4, 5, 2, 7, 0, 8, 4, 1, 6,\n",
       "       4, 4, 5, 2, 7, 0, 8, 4, 1, 6, 4, 4, 5, 4, 4, 4, 1, 4, 5, 4, 4, 4,\n",
       "       4, 8, 2, 6, 6, 0, 4, 2, 5, 5, 7, 7, 6, 2, 7, 5, 2, 7, 1, 0, 0, 6,\n",
       "       0, 0, 8, 1, 1, 1, 8, 4, 2, 4, 5, 4, 9, 7, 4, 7, 5, 5, 2, 6, 1, 0,\n",
       "       7, 2, 6, 8, 1, 0, 2, 0, 4, 2, 6, 1, 4, 8, 0, 2, 8, 5, 4, 0, 1, 4,\n",
       "       1, 2, 6, 4, 8, 8, 6, 7, 4, 7, 7, 4, 6, 4, 9, 8, 4, 6, 8, 0, 5, 6,\n",
       "       4, 4, 5, 3, 7, 0, 8, 9, 2, 3, 3, 2, 5, 3, 4, 0, 8, 9, 1, 2, 5, 3,\n",
       "       7, 0, 8, 9, 3, 6, 9, 2, 8, 2, 9, 9, 1, 9, 5, 9, 3, 9, 3, 8, 3, 6,\n",
       "       6, 0, 9, 3, 5, 5, 5, 7, 3, 3, 0, 5, 3, 7, 1, 9, 6, 6, 6, 3, 8, 1,\n",
       "       1, 1, 6, 2, 3, 9, 5, 4, 9, 0, 3, 5, 3, 6, 1, 0, 7, 3, 6, 6, 1, 0,\n",
       "       3, 0, 6, 3, 6, 1, 3, 8, 0, 3, 8, 5, 9, 0, 1, 0, 1, 3, 6, 9, 8, 8,\n",
       "       6, 7, 0, 9, 6, 0, 9, 9, 8, 9, 5, 3, 9, 6, 5, 3, 7, 0, 2, 4, 1, 6,\n",
       "       0, 4, 5, 3, 7, 3, 8, 9, 1, 6, 3, 4, 5, 3, 7, 9, 8, 8, 1, 6, 3, 4,\n",
       "       5, 4, 9, 9, 1, 9, 5, 4, 4, 4, 3, 8, 3, 6, 6, 6, 9, 3, 5, 5, 7, 7,\n",
       "       6, 3, 7, 5, 3, 7, 1, 3, 3, 6, 4, 3, 8, 1, 1, 1, 8, 4, 3, 9, 5, 4,\n",
       "       4, 7, 3, 7, 5, 5, 3, 6, 1, 0, 7, 3, 6, 8, 1, 0, 3, 0, 4, 3, 6, 1,\n",
       "       3, 8, 9, 3, 8, 5, 4, 0, 1, 4, 1, 3, 6, 4, 8, 8, 6, 7, 3, 7, 7, 4,\n",
       "       6, 4, 4, 8, 3, 3, 8, 4, 5, 3, 4, 4])"
      ]
     },
     "execution_count": 34,
     "metadata": {},
     "output_type": "execute_result"
    }
   ],
   "source": [
    "predicted = clustering.predict(test_features)\n",
    "predicted"
   ]
  },
  {
   "cell_type": "code",
   "execution_count": 38,
   "metadata": {},
   "outputs": [
    {
     "name": "stdout",
     "output_type": "stream",
     "text": [
      "              precision    recall  f1-score   support\n",
      "\n",
      "           0       0.00      0.00      0.00        53\n",
      "           1       0.00      0.00      0.00        53\n",
      "           2       0.00      0.00      0.00        53\n",
      "           3       0.07      0.09      0.08        53\n",
      "           4       0.00      0.00      0.00        57\n",
      "           5       0.00      0.00      0.00        56\n",
      "           6       0.00      0.00      0.00        54\n",
      "           7       0.00      0.00      0.00        54\n",
      "           8       0.00      0.00      0.00        52\n",
      "           9       0.09      0.07      0.08        55\n",
      "\n",
      "    accuracy                           0.02       540\n",
      "   macro avg       0.02      0.02      0.02       540\n",
      "weighted avg       0.02      0.02      0.02       540\n",
      "\n",
      "[[ 0  0  0  0  0 52  0  0  1  0]\n",
      " [ 0  0 17 35  0  0  0  0  0  1]\n",
      " [ 7  0  0  0  3  1  0 42  0  0]\n",
      " [41  0  0  5  1  0  3  0  0  3]\n",
      " [ 0  0  1  0  0  1  2  0 52  1]\n",
      " [ 0  1  0  0 19  0  0  0  1 35]\n",
      " [ 0 52  1  1  0  0  0  0  0  0]\n",
      " [ 0  0  0  2  0  0 52  0  0  0]\n",
      " [ 1  0  1 33 12  0  3  1  0  1]\n",
      " [ 3  0  5  0 42  0  1  0  0  4]]\n"
     ]
    }
   ],
   "source": [
    "print(metrics.classification_report(test_labels,predicted))\n",
    "print(metrics.confusion_matrix(test_labels,predicted))"
   ]
  },
  {
   "cell_type": "code",
   "execution_count": 41,
   "metadata": {},
   "outputs": [
    {
     "name": "stdout",
     "output_type": "stream",
     "text": [
      "0.7436568690340123\n",
      "0.7315005924029004\n",
      "0.7280976734760459\n"
     ]
    }
   ],
   "source": [
    "print(metrics.completeness_score(test_labels,predicted))\n",
    "print(metrics.homogeneity_score(test_labels,predicted))\n",
    "print(metrics.adjusted_mutual_info_score(test_labels,predicted))"
   ]
  },
  {
   "cell_type": "code",
   "execution_count": null,
   "metadata": {},
   "outputs": [],
   "source": []
  }
 ],
 "metadata": {
  "kernelspec": {
   "display_name": "Python 3",
   "language": "python",
   "name": "python3"
  },
  "language_info": {
   "codemirror_mode": {
    "name": "ipython",
    "version": 3
   },
   "file_extension": ".py",
   "mimetype": "text/x-python",
   "name": "python",
   "nbconvert_exporter": "python",
   "pygments_lexer": "ipython3",
   "version": "3.8.3"
  }
 },
 "nbformat": 4,
 "nbformat_minor": 4
}
